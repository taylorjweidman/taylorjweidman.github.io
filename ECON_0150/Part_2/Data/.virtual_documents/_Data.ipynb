


import pandas as pd






starbucks_raw = pd.read_csv('profile.csv', index_col=0)


starbucks_raw


starbucks = starbucks_raw[starbucks_raw['age'] != 118]


starbucks.to_excel('starbucks.xlsx')


starbucks.age.hist()





coffee_shops = pd.read_csv('coffee_shops.csv')
