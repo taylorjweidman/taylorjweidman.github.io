


from Weidman_Figures import *



pd.concat([pd.read_csv(f) for f in [
    'ECON 0150 _ Week 1 _ M_W 3PM.csv',
    'ECON 0150 _ Week 1 _ M_W 4_30PM.csv',
    'ECON 0150 _ Week 1 _ T_R 1PM.csv',
]], ignore_index=True).to_csv('Week_01_Survey.csv')





from Weidman_Figures import *
from matplotlib_venn import venn2

fig, axes = Weid_Fig(layout=(1,3))

# AND
venn_and = venn2(subsets=(1, 1, 1), set_labels=('A', 'B'), ax=axes[0], set_colors=('white', 'white'))
venn_and.get_patch_by_id('11').set_color('deepskyblue')
for subset_id in ('10', '01'):
    venn_and.get_patch_by_id(subset_id).set_edgecolor('black')
    venn_and.get_patch_by_id(subset_id).set_linewidth(2)

venn_and.get_label_by_id('10').set_text('')  # Only A
venn_and.get_label_by_id('01').set_text('')  # Only B
venn_and.get_label_by_id('11').set_text('A AND B')  # Intersection

axes[0].set_title('AND\nBoth terms')

# OR
venn_or = venn2(subsets=(1, 1, 1), set_labels=('A', 'B'), ax=axes[1], set_colors=('white', 'white'))
venn_or.get_patch_by_id('10').set_color('deepskyblue')
venn_or.get_patch_by_id('01').set_color('deepskyblue')
venn_or.get_patch_by_id('11').set_color('deepskyblue')
for subset_id in ('10', '01'):
    venn_or.get_patch_by_id(subset_id).set_edgecolor('black')
    venn_or.get_patch_by_id(subset_id).set_linewidth(2)

venn_or.get_label_by_id('10').set_text('A')
venn_or.get_label_by_id('01').set_text('B')
venn_or.get_label_by_id('11').set_text('A AND B')

axes[1].set_title('OR\nEither term')

# NOT
venn_not = venn2(subsets=(2, 2, 1), set_labels=('A', 'B'), ax=axes[2], set_colors=('white', 'white'))
venn_not.get_patch_by_id('10').set_color('deepskyblue')
venn_not.get_patch_by_id('01').set_color('deepskyblue')

for subset_id in ('10', '01'):
    venn_not.get_patch_by_id(subset_id).set_edgecolor('black')
    venn_not.get_patch_by_id(subset_id).set_linewidth(2)

venn_not.get_label_by_id('10').set_text('A NOT B')
venn_not.get_label_by_id('01').set_text('B NOT A')
venn_not.get_label_by_id('11').set_text('')

axes[2].set_title('NOT\nOnly one term')

# Adjust layout and show
plt.tight_layout()
plt.savefig('Figures/Part_0_Bool.png')
