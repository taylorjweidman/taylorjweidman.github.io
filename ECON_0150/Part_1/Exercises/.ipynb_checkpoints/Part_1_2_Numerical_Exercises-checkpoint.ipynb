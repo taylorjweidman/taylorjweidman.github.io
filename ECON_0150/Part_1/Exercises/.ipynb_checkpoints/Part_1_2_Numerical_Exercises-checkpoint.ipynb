{
 "cells": [
  {
   "cell_type": "markdown",
   "id": "05b782db-7c73-4139-b40d-b91ce8782f42",
   "metadata": {},
   "source": [
    "# Part 1.2 | Numerical Data Exercises"
   ]
  },
  {
   "cell_type": "code",
   "execution_count": 2,
   "id": "f594d07f",
   "metadata": {},
   "outputs": [],
   "source": [
    "# Replace with your file path\n",
    "file_path = 'drive/MyDrive/TEACHING/ECON_0150/'\n",
    "\n",
    "# Mount Google Drive\n",
    "from google.colab import drive\n",
    "drive.mount('/content/drive')\n",
    "\n",
    "import pandas as pd\n",
    "import numpy as np\n",
    "import matplotlib.pyplot as plt\n",
    "import statsmodels.api as sm\n",
    "import sys\n"
   ]
  },
  {
   "cell_type": "markdown",
   "id": "70484c69",
   "metadata": {},
   "source": [
    "## Discrete Data \n",
    "\n",
    "### Summary and Visualization\n",
    "\n",
    "This notebook summarizes and visualizes the discrete numerical dataset."
   ]
  },
  {
   "cell_type": "markdown",
   "id": "e7f8d337",
   "metadata": {},
   "source": [
    "### Load the discrete dataset"
   ]
  },
  {
   "cell_type": "code",
   "execution_count": 3,
   "id": "f307aa1a",
   "metadata": {},
   "outputs": [],
   "source": [
    "data_path = \"discrete_numerical_dataset.csv\"  # Update this path if necessary\n",
    "df = pd.read_csv(data_path)"
   ]
  },
  {
   "cell_type": "markdown",
   "id": "0ab45217",
   "metadata": {},
   "source": [
    "### Summarize the dataset"
   ]
  },
  {
   "cell_type": "code",
   "execution_count": 3,
   "id": "c4364275",
   "metadata": {},
   "outputs": [
    {
     "name": "stdout",
     "output_type": "stream",
     "text": [
      "Number of Children\n",
      "0    17\n",
      "1    20\n",
      "2    14\n",
      "3    21\n",
      "4    15\n",
      "5    13\n",
      "Name: count, dtype: int64\n"
     ]
    }
   ],
   "source": [
    "summary = df['Number of Children'].value_counts().sort_index()\n",
    "print(summary)"
   ]
  },
  {
   "cell_type": "code",
   "execution_count": 4,
   "id": "c2a1c605-819b-45f2-82ab-3849def37ace",
   "metadata": {},
   "outputs": [
    {
     "data": {
      "text/html": [
       "<div>\n",
       "<style scoped>\n",
       "    .dataframe tbody tr th:only-of-type {\n",
       "        vertical-align: middle;\n",
       "    }\n",
       "\n",
       "    .dataframe tbody tr th {\n",
       "        vertical-align: top;\n",
       "    }\n",
       "\n",
       "    .dataframe thead th {\n",
       "        text-align: right;\n",
       "    }\n",
       "</style>\n",
       "<table border=\"1\" class=\"dataframe\">\n",
       "  <thead>\n",
       "    <tr style=\"text-align: right;\">\n",
       "      <th></th>\n",
       "      <th>Number of Children</th>\n",
       "    </tr>\n",
       "  </thead>\n",
       "  <tbody>\n",
       "    <tr>\n",
       "      <th>count</th>\n",
       "      <td>100.000000</td>\n",
       "    </tr>\n",
       "    <tr>\n",
       "      <th>mean</th>\n",
       "      <td>2.360000</td>\n",
       "    </tr>\n",
       "    <tr>\n",
       "      <th>std</th>\n",
       "      <td>1.660717</td>\n",
       "    </tr>\n",
       "    <tr>\n",
       "      <th>min</th>\n",
       "      <td>0.000000</td>\n",
       "    </tr>\n",
       "    <tr>\n",
       "      <th>25%</th>\n",
       "      <td>1.000000</td>\n",
       "    </tr>\n",
       "    <tr>\n",
       "      <th>50%</th>\n",
       "      <td>2.000000</td>\n",
       "    </tr>\n",
       "    <tr>\n",
       "      <th>75%</th>\n",
       "      <td>4.000000</td>\n",
       "    </tr>\n",
       "    <tr>\n",
       "      <th>max</th>\n",
       "      <td>5.000000</td>\n",
       "    </tr>\n",
       "  </tbody>\n",
       "</table>\n",
       "</div>"
      ],
      "text/plain": [
       "       Number of Children\n",
       "count          100.000000\n",
       "mean             2.360000\n",
       "std              1.660717\n",
       "min              0.000000\n",
       "25%              1.000000\n",
       "50%              2.000000\n",
       "75%              4.000000\n",
       "max              5.000000"
      ]
     },
     "execution_count": 4,
     "metadata": {},
     "output_type": "execute_result"
    }
   ],
   "source": [
    "df.describe()"
   ]
  },
  {
   "cell_type": "markdown",
   "id": "d7c8f2a7",
   "metadata": {},
   "source": [
    "### Visualize the dataset"
   ]
  },
  {
   "cell_type": "code",
   "execution_count": 28,
   "id": "7d8461e1-e254-44fd-9805-dbb3fd4c22a0",
   "metadata": {},
   "outputs": [
    {
     "data": {
      "image/png": "[encoded data removed]",
      "text/plain": [
       "<Figure size 800x600 with 1 Axes>"
      ]
     },
     "metadata": {},
     "output_type": "display_data"
    }
   ],
   "source": [
    "plt.figure(figsize=(8, 6))\n",
    "\n",
    "bins = summary.index\n",
    "plt.hist(df['Number of Children'], bins=bins, edgecolor='white')\n",
    "\n",
    "plt.title(\"Distribution of Number of Children\")\n",
    "plt.xlabel(\"Number of Children\")\n",
    "plt.ylabel(\"\")\n",
    "plt.xticks(rotation=0)\n",
    "plt.grid(axis='y', linestyle='--', alpha=0.7)"
   ]
  },
  {
   "cell_type": "markdown",
   "id": "56eb9e3f-8220-48fa-8f5a-c28cb6b0df48",
   "metadata": {},
   "source": [
    "## Continuous Data \n",
    "\n",
    "### Summary and Visualization\n",
    "\n",
    "This notebook summarizes and visualizes the continuous numerical dataset."
   ]
  },
  {
   "cell_type": "markdown",
   "id": "974acdd0-a231-4d3b-9542-068d3c2673ff",
   "metadata": {},
   "source": [
    "### Load the continuous dataset"
   ]
  },
  {
   "cell_type": "code",
   "execution_count": null,
   "id": "de53066d-89fb-4215-8e67-9ef766085725",
   "metadata": {},
   "outputs": [],
   "source": [
    "data_path = \"continuous_numerical_dataset.csv\"  # Update this path if necessary\n",
    "df = pd.read_csv(data_path)"
   ]
  },
  {
   "cell_type": "markdown",
   "id": "05213f6c-7110-4c21-b752-57c916449f7d",
   "metadata": {},
   "source": [
    "### Summarize the dataset"
   ]
  },
  {
   "cell_type": "code",
   "execution_count": null,
   "id": "53080be6-e982-42d3-9b80-20a90b2d4c31",
   "metadata": {},
   "outputs": [],
   "source": [
    "summary = df['Household Income (USD)'].describe()\n",
    "print(summary)"
   ]
  },
  {
   "cell_type": "markdown",
   "id": "8c932eac-c767-4d92-80a2-bc4db84a5728",
   "metadata": {},
   "source": [
    "### Visualize the dataset - Histogram"
   ]
  },
  {
   "cell_type": "code",
   "execution_count": null,
   "id": "2caaec9d-2c25-49c5-9c7d-c9e7fb12592d",
   "metadata": {},
   "outputs": [],
   "source": [
    "plt.figure(figsize=(8, 6))\n",
    "df['Household Income (USD)'].plot(kind='hist', bins=10, color='skyblue', edgecolor='black')\n",
    "plt.title(\"Distribution of Household Income\")\n",
    "plt.xlabel(\"Household Income (USD)\")\n",
    "plt.ylabel(\"Frequency\")\n",
    "plt.grid(axis='y', linestyle='--', alpha=0.7)\n",
    "plt.show()"
   ]
  },
  {
   "cell_type": "markdown",
   "id": "519ed92b-131e-4fa6-ab48-d0955f443d97",
   "metadata": {},
   "source": [
    "### Visualize the dataset - Boxplot"
   ]
  },
  {
   "cell_type": "code",
   "execution_count": null,
   "id": "2bfe21f5-1c4f-4975-ac09-4ad908df240d",
   "metadata": {},
   "outputs": [],
   "source": [
    "plt.figure(figsize=(8, 6))\n",
    "df['Household Income (USD)'].plot(kind='box', vert=False, patch_artist=True, boxprops=dict(facecolor='lightblue'))\n",
    "plt.title(\"Boxplot of Household Income\")\n",
    "plt.xlabel(\"Household Income (USD)\")\n",
    "plt.show()"
   ]
  },
  {
   "cell_type": "markdown",
   "id": "81e170be-77c6-4657-8013-a4b7fa226b17",
   "metadata": {},
   "source": [
    "### Visualize the dataset - Boxplot with horizontal scatter\n"
   ]
  },
  {
   "cell_type": "code",
   "execution_count": null,
   "id": "eb0ccffb-cab0-4de3-9674-3bbd8209724e",
   "metadata": {},
   "outputs": [],
   "source": [
    "plt.figure(figsize=(8, 6))\n",
    "plt.boxplot(df['Household Income (USD)'], vert=False, patch_artist=True, boxprops=dict(facecolor='lightblue'))\n",
    "plt.scatter(df['Household Income (USD)'], [1] * len(df), alpha=0.5, color='darkblue', label='Data Points')\n",
    "plt.title(\"Boxplot of Household Income with Data Points\")\n",
    "plt.xlabel(\"Household Income (USD)\")\n",
    "plt.legend()\n",
    "plt.show()"
   ]
  },
  {
   "cell_type": "markdown",
   "id": "5c0d5757-e28e-4def-8590-6ec5b94741df",
   "metadata": {},
   "source": [
    "### Visualize the dataset - Boxplot with jittered horizontal scatter "
   ]
  },
  {
   "cell_type": "code",
   "execution_count": null,
   "id": "1bc7862f-c10c-48d9-b01c-469255c01e93",
   "metadata": {},
   "outputs": [],
   "source": [
    "plt.figure(figsize=(8, 3))\n",
    "plt.boxplot(df['Household Income (USD)'], vert=False, patch_artist=True, boxprops=dict(facecolor='royalblue', alpha=0.5), zorder=2)\n",
    "\n",
    "import numpy as np\n",
    "jitter = np.random.uniform(0.9,1.1, len(df))\n",
    "\n",
    "plt.scatter(df['Household Income (USD)'], jitter, alpha=0.1, color='red', label='Data Points', zorder=3)\n",
    "plt.title(\"Boxplot of Household Income with Data Points\")\n",
    "plt.xlabel(\"Household Income (USD)\")\n",
    "plt.ylabel('')\n",
    "plt.yticks([])\n",
    "plt.legend()\n",
    "plt.show()"
   ]
  },
  {
   "cell_type": "markdown",
   "id": "f1436f96-ed45-4538-9b08-b94463fa41dd",
   "metadata": {},
   "source": [
    "### Visualize the dataset - Boxplot with jittered horizontal scatter and hist"
   ]
  },
  {
   "cell_type": "code",
   "execution_count": null,
   "id": "be9284e5-9f5f-4f93-8fc1-f01299d960a5",
   "metadata": {},
   "outputs": [],
   "source": [
    "import matplotlib.gridspec as gridspec\n",
    "\n",
    "# Visualize the dataset - Combined Boxplot and Histogram\n",
    "fig = plt.figure(figsize=(8, 4))\n",
    "gs = gridspec.GridSpec(2, 1, height_ratios=[1, 1])\n",
    "\n",
    "# Boxplot\n",
    "ax0 = plt.subplot(gs[0])\n",
    "ax0.boxplot(df['Household Income (USD)'], vert=False, patch_artist=True, boxprops=dict(facecolor='lightblue'))\n",
    "\n",
    "jitter = np.random.uniform(0.9,1.1, len(df))\n",
    "\n",
    "ax0.scatter(df['Household Income (USD)'], jitter, alpha=0.5, color='darkblue', label='Data Points', zorder=3)\n",
    "ax0.set_title(\"Boxplot of Household Income with Data Points\")\n",
    "ax0.set_xlabel(\"\")\n",
    "ax0.legend()\n",
    "ax0.grid(axis='x', linestyle='--', alpha=0.7)\n",
    "\n",
    "# Histogram\n",
    "ax1 = plt.subplot(gs[1])\n",
    "df['Household Income (USD)'].plot(kind='hist', bins=10, color='skyblue', edgecolor='black', ax=ax1)\n",
    "ax1.set_title(\"Distribution of Household Income\")\n",
    "ax1.set_xlabel(\"Household Income (USD)\")\n",
    "ax1.set_ylabel(\"Frequency\")\n",
    "ax1.grid(axis='y', linestyle='--', alpha=0.7)\n",
    "\n",
    "# Adjust layout\n",
    "plt.tight_layout()\n",
    "plt.show()"
   ]
  },
  {
   "cell_type": "markdown",
   "id": "b77644e9-4d1a-4813-aa03-17ac06cd5a19",
   "metadata": {},
   "source": [
    "## Time-Series Data \n",
    "\n",
    "### Summary and Visualization\n",
    "\n",
    "This notebook summarizes and visualizes the time-series dataset."
   ]
  },
  {
   "cell_type": "markdown",
   "id": "ed8da371-ad7c-4b8e-bb50-610b5bf8a2c2",
   "metadata": {},
   "source": [
    "### Load the time-series dataset"
   ]
  },
  {
   "cell_type": "code",
   "execution_count": null,
   "id": "7934a658-e1f1-4cbd-a00b-4574b5cfe472",
   "metadata": {},
   "outputs": [],
   "source": [
    "# Load the time-series dataset\n",
    "data_path = \"time_series_numerical_dataset.csv\"  # Update this path if necessary\n",
    "df = pd.read_csv(data_path)\n",
    "\n",
    "# Ensure the time column is in datetime format\n",
    "df['Month-Year'] = pd.to_datetime(df['Month-Year'], format=\"%b-%Y\")"
   ]
  },
  {
   "cell_type": "markdown",
   "id": "f36f5e8e-4f27-4995-8830-9ddef0bcdcc9",
   "metadata": {},
   "source": [
    "### Summarize the dataset"
   ]
  },
  {
   "cell_type": "code",
   "execution_count": null,
   "id": "787e2c82-bdf1-45f8-8a02-8fd88499eaaf",
   "metadata": {},
   "outputs": [],
   "source": [
    "# Summarize the dataset\n",
    "summary = df['GDP (Million USD)'].describe()\n",
    "print(summary)"
   ]
  },
  {
   "cell_type": "markdown",
   "id": "9f35a227-3688-43cf-89cd-0a8997631c2e",
   "metadata": {},
   "source": [
    "### Visualize the dataset - Histogram"
   ]
  },
  {
   "cell_type": "code",
   "execution_count": null,
   "id": "f3c01f72-cbba-4fd9-910c-6813be445b82",
   "metadata": {},
   "outputs": [],
   "source": [
    "plt.figure(figsize=(8, 6))\n",
    "\n",
    "plt.hist(df['GDP (Million USD)'], bins=10, edgecolor='white')\n",
    "\n",
    "plt.title(\"Time Series of GDP\")\n",
    "plt.xlabel(\"GDP (Million USD)\")\n",
    "plt.ylabel(\"Count\")\n",
    "plt.grid(axis='y', linestyle='--', alpha=0.7)"
   ]
  },
  {
   "cell_type": "markdown",
   "id": "54e6213e-899b-4c5e-9595-654a8451ca5d",
   "metadata": {},
   "source": [
    "### Visualize the dataset - Boxplot with jittered horizontal scatter "
   ]
  },
  {
   "cell_type": "code",
   "execution_count": null,
   "id": "e8d18349-d75d-43ff-897b-7d52f4167a87",
   "metadata": {},
   "outputs": [],
   "source": [
    "plt.figure(figsize=(8, 3))\n",
    "plt.boxplot(df['GDP (Million USD)'], vert=False, patch_artist=True, boxprops=dict(facecolor='royalblue', alpha=0.5), zorder=2)\n",
    "\n",
    "import numpy as np\n",
    "jitter = np.random.uniform(0.9,1.1, len(df))\n",
    "\n",
    "plt.scatter(df['GDP (Million USD)'], jitter, alpha=0.1, color='red', label='Data Points', zorder=3)\n",
    "plt.title(\"Boxplot of GDP with Data Points\")\n",
    "plt.xlabel(\"GDP (Million USD)\")\n",
    "plt.ylabel('')\n",
    "plt.yticks([])\n",
    "plt.legend()\n",
    "plt.show()"
   ]
  },
  {
   "cell_type": "markdown",
   "id": "4e0711ef-4cf1-457f-a861-b969cfc74adf",
   "metadata": {},
   "source": [
    "### Visualize the dataset - Line plot"
   ]
  },
  {
   "cell_type": "code",
   "execution_count": null,
   "id": "ca5b5abb-6cb2-4fc8-8dfb-8f3ecee054cd",
   "metadata": {},
   "outputs": [],
   "source": [
    "# Visualize the dataset - Line plot\n",
    "plt.figure(figsize=(10, 6))\n",
    "plt.plot(df['Month-Year'], df['GDP (Million USD)'], marker=None, color='skyblue', label='GDP')\n",
    "plt.title(\"Time-Series of GDP\")\n",
    "plt.xlabel(\"Date\")\n",
    "plt.ylabel(\"GDP (Million USD)\")\n",
    "plt.grid(axis='y', linestyle='--', alpha=0.7)\n",
    "plt.legend()\n",
    "plt.tight_layout()\n",
    "plt.show()"
   ]
  },
  {
   "cell_type": "markdown",
   "id": "5dc5c6b3-a1e1-4722-a866-82eb2c92e867",
   "metadata": {},
   "source": [
    "### Visualize the dataset - Moving Average"
   ]
  },
  {
   "cell_type": "code",
   "execution_count": null,
   "id": "ece7418f-83fd-4425-83a3-ef7a1f8e18a5",
   "metadata": {},
   "outputs": [],
   "source": [
    "plt.figure(figsize=(10, 6))\n",
    "plt.plot(df['Month-Year'], df['GDP (Million USD)'], marker='o', color='skyblue', label='GDP')\n",
    "\n",
    "df['GDP_MA'] = df['GDP (Million USD)'].rolling(window=12).mean()\n",
    "plt.plot(df['Month-Year'], df['GDP_MA'], color='orange', label='12-Month Moving Average')\n",
    "\n",
    "plt.title(\"GDP and 12-Month Moving Average\")\n",
    "plt.xlabel(\"Date\")\n",
    "plt.ylabel(\"GDP (Million USD)\")\n",
    "plt.grid(axis='y', linestyle='--', alpha=0.7)\n",
    "plt.legend()\n",
    "plt.tight_layout()\n",
    "plt.show()"
   ]
  },
  {
   "cell_type": "markdown",
   "id": "0f041de7-2afa-4dd6-9313-ad171ac484af",
   "metadata": {},
   "source": [
    "## Panel Data \n",
    "\n",
    "### Summary and Visualization\n",
    "\n",
    "This notebook summarizes and visualizes the panel dataset."
   ]
  },
  {
   "cell_type": "markdown",
   "id": "ebbd086f-fa07-455b-8014-9dd063efb12b",
   "metadata": {},
   "source": [
    "### Load the panel dataset"
   ]
  },
  {
   "cell_type": "code",
   "execution_count": null,
   "id": "ee6a3aeb-7204-4946-b0a9-4de0fb35209f",
   "metadata": {},
   "outputs": [],
   "source": [
    "# Load the panel dataset\n",
    "data_path = \"panel_numerical_dataset.csv\"  # Update this path if necessary\n",
    "df = pd.read_csv(data_path)"
   ]
  },
  {
   "cell_type": "markdown",
   "id": "e24a67ea-d4ed-42dd-bb81-8bbc3c8f7311",
   "metadata": {},
   "source": [
    "### Summarize the dataset"
   ]
  },
  {
   "cell_type": "code",
   "execution_count": null,
   "id": "0d5c9f57-8d5d-46fa-9169-3bb5d23565fe",
   "metadata": {},
   "outputs": [],
   "source": [
    "summary = df.groupby('Household ID')['Income (USD)'].describe()\n",
    "print(summary)"
   ]
  },
  {
   "cell_type": "markdown",
   "id": "895724a2-b09e-4e9f-9763-7a34e8bcb2ac",
   "metadata": {},
   "source": [
    "### Visualize the dataset - Line plot for each Household (not so useful)"
   ]
  },
  {
   "cell_type": "code",
   "execution_count": null,
   "id": "1c89d3cf-22ac-4539-98c8-3ca5f4bbeb3e",
   "metadata": {},
   "outputs": [],
   "source": [
    "plt.figure(figsize=(10, 6))\n",
    "for household in df['Household ID'].unique():\n",
    "    household_data = df[df['Household ID'] == household]\n",
    "    plt.plot(household_data['Year'], household_data['Income (USD)'], marker='o', label=household, alpha=0.5)\n",
    "plt.title(\"Panel Data: Household Income Over Time\")\n",
    "plt.xlabel(\"Year\")\n",
    "plt.ylabel(\"Income (USD)\")\n",
    "plt.grid(axis='y', linestyle='--', alpha=0.7)\n",
    "plt.legend(loc='upper left', bbox_to_anchor=(1, 1), title=\"Household ID\", fontsize='small')\n",
    "plt.tight_layout()\n",
    "plt.show()"
   ]
  },
  {
   "cell_type": "markdown",
   "id": "1ff4e570-1168-4233-b6a3-52b2d9698496",
   "metadata": {},
   "source": [
    "### Visualize the dataset - Boxplot by Year (maybe helpful)"
   ]
  },
  {
   "cell_type": "code",
   "execution_count": null,
   "id": "db811a73-1b50-46c0-813c-e4135a8c98bb",
   "metadata": {},
   "outputs": [],
   "source": [
    "plt.figure(figsize=(10, 6))\n",
    "sns.boxplot(data=df, x='Year', y='Income (USD)', palette='pastel')\n",
    "plt.title(\"Income Distribution by Year\")\n",
    "plt.xlabel(\"Year\")\n",
    "plt.ylabel(\"Income (USD)\")\n",
    "plt.grid(axis='y', linestyle='--', alpha=0.7)\n",
    "plt.tight_layout()\n",
    "plt.show()"
   ]
  },
  {
   "cell_type": "markdown",
   "id": "0e5352a3-85b8-4eab-af31-626bd6e82ef6",
   "metadata": {},
   "source": [
    "### Visualize the dataset - Boxplot by Household (helpful)"
   ]
  },
  {
   "cell_type": "code",
   "execution_count": null,
   "id": "8985bbeb-00dc-4e48-99c4-8778ff10d75a",
   "metadata": {},
   "outputs": [],
   "source": [
    "plt.figure(figsize=(10, 6))\n",
    "sns.boxplot(data=df, x='Household ID', y='Income (USD)', palette='pastel')\n",
    "plt.title(\"Income Distribution by Year\")\n",
    "plt.xlabel(\"Household\")\n",
    "plt.ylabel(\"Income (USD)\")\n",
    "plt.grid(axis='y', linestyle='--', alpha=0.7)\n",
    "plt.tight_layout()\n",
    "plt.show()"
   ]
  }
 ],
 "metadata": {
  "kernelspec": {
   "display_name": "Python 3 (ipykernel)",
   "language": "python",
   "name": "python3"
  },
  "language_info": {
   "codemirror_mode": {
    "name": "ipython",
    "version": 3
   },
   "file_extension": ".py",
   "mimetype": "text/x-python",
   "name": "python",
   "nbconvert_exporter": "python",
   "pygments_lexer": "ipython3",
   "version": "3.12.2"
  }
 },
 "nbformat": 4,
 "nbformat_minor": 5
}
