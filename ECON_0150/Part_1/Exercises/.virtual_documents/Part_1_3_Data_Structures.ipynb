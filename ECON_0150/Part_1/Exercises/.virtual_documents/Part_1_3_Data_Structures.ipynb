


# Run if you're using Google Colab

# Replace with your file path
file_path = 'drive/MyDrive/TEACHING/ECON_0150/'

# Mount Google Drive
from google.colab import drive
drive.mount('/content/drive')

import pandas as pd
import numpy as np
import matplotlib.pyplot as plt
import statsmodels.api as sm
import seaborn as sns
import sys



# Run if you're using Anaconda locally on your computer

import pandas as pd
import numpy as np
import matplotlib.pyplot as plt
import statsmodels.api as sm
import seaborn as sns
import sys









# Load the time-series dataset
time_series_data_path = "time_series_numerical_dataset.csv"  # Update this path if necessary
time_series = pd.read_csv(time_series_data_path)

# Ensure the time column is in datetime format
time_series['Month-Year'] = pd.to_datetime(time_series['Month-Year'], format="%b-%Y")





# Summarize the dataset
time_series_summary = time_series['GDP (Million USD)'].describe()
print(time_series_summary)





plt.figure(figsize=(8, 6))

plt.hist(time_series['GDP (Million USD)'], bins=10, edgecolor='white')

plt.title("Time Series of GDP")
plt.xlabel("GDP (Million USD)")
plt.ylabel("Count")
plt.grid(axis='y', linestyle='--', alpha=0.7)





plt.figure(figsize=(8, 3))
plt.boxplot(time_series['GDP (Million USD)'], vert=False, patch_artist=True, boxprops=dict(facecolor='royalblue', alpha=0.5), zorder=2)

import numpy as np
jitter = np.random.uniform(0.9,1.1, len(time_series))

plt.scatter(time_series['GDP (Million USD)'], jitter, alpha=0.1, color='red', label='Data Points', zorder=3)
plt.title("Boxplot of GDP with Data Points")
plt.xlabel("GDP (Million USD)")
plt.ylabel('')
plt.yticks([])
plt.legend()
plt.show()





# Visualize the dataset - Line plot
plt.figure(figsize=(10, 6))
plt.plot(time_series['Month-Year'], time_series['GDP (Million USD)'], marker=None, color='skyblue', label='GDP')
plt.title("Time-Series of GDP")
plt.xlabel("Date")
plt.ylabel("GDP (Million USD)")
plt.grid(axis='y', linestyle='--', alpha=0.7)
plt.legend()
plt.tight_layout()
plt.show()





plt.figure(figsize=(10, 6))
plt.plot(time_series['Month-Year'], time_series['GDP (Million USD)'], marker='o', color='skyblue', label='GDP')

time_series['GDP_MA'] = time_series['GDP (Million USD)'].rolling(window=12).mean()
plt.plot(time_series['Month-Year'], time_series['GDP_MA'], color='orange', label='12-Month Moving Average')

plt.title("GDP and 12-Month Moving Average")
plt.xlabel("Date")
plt.ylabel("GDP (Million USD)")
plt.grid(axis='y', linestyle='--', alpha=0.7)
plt.legend()
plt.tight_layout()
plt.show()








# Load the panel dataset
panel_data_path = "panel_numerical_dataset.csv"  # Update this path if necessary
panel = pd.read_csv(panel_data_path)





panel_summary = panel.groupby('Household ID')['Income (USD)'].describe()
print(panel_summary)





plt.figure(figsize=(10, 6))
for household in panel['Household ID'].unique():
    household_data = panel[panel['Household ID'] == household]
    plt.plot(household_data['Year'], household_data['Income (USD)'], marker='o', label=household, alpha=0.5)
plt.title("Panel Data: Household Income Over Time")
plt.xlabel("Year")
plt.ylabel("Income (USD)")
plt.grid(axis='y', linestyle='--', alpha=0.7)
plt.legend(loc='upper left', bbox_to_anchor=(1, 1), title="Household ID", fontsize='small')
plt.tight_layout()
plt.show()





plt.figure(figsize=(10, 6))
sns.boxplot(data=panel, x='Year', y='Income (USD)', palette='pastel')
plt.title("Income Distribution by Year")
plt.xlabel("Year")
plt.ylabel("Income (USD)")
plt.grid(axis='y', linestyle='--', alpha=0.7)
plt.tight_layout()
plt.show()





plt.figure(figsize=(10, 6))
sns.boxplot(data=panel, x='Household ID', y='Income (USD)', palette='pastel')
plt.title("Income Distribution by Year")
plt.xlabel("Household")
plt.ylabel("Income (USD)")
plt.grid(axis='y', linestyle='--', alpha=0.7)
plt.tight_layout()
plt.show()
