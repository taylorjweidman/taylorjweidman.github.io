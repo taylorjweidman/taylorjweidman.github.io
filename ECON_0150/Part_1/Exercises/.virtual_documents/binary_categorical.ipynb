


# Replace with your file path
file_path = 'drive/MyDrive/TEACHING/ECON_0150/'

# Mount Google Drive
from google.colab import drive
drive.mount('/content/drive')

import pandas as pd
import numpy as np
import matplotlib.pyplot as plt
import statsmodels.api as sm
import sys






data_path = "binary_categorical_dataset.csv"  # Update this path if necessary
df = pd.read_csv(file_path + data_path)





summary = df['Employment Status'].value_counts()
print(summary)





plt.figure(figsize=(8, 6))
summary.plot(kind='barh', color=['skyblue', 'orange'])
plt.title("Employment Status Distribution")
plt.ylabel("")
plt.xlabel("Count")
plt.grid(axis='x', linestyle='--', alpha=0.7)
plt.show()
