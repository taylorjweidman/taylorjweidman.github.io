from Weidman_Figures import *








fig, axes = Weid_Fig(height=4, fontsize=16)

leisure = pd.read_csv('Data/HW1_Q1_Leisure_Time_OECD.csv')
leisure['Minutes'] = leisure['TIME']*60
plt.hist(
    leisure.Minutes, 
    bins=[750, 800, 850, 900, 950, 1000],
    color='blue'
)

max_freq = max(plt.hist(leisure.Minutes, bins=[750, 800, 850, 900, 950, 1000])[0])  # Get the maximum frequency

plt.yticks(range(2, int(max_freq) + 1,2))
plt.ylim(1,18)
plt.ylabel('Countries')

plt.xlim(750,1000)
plt.xticks([800, 900, 1000])
plt.xlabel('Minutes of Leisure and Personal Care')
plt.grid(True)

for spine in ax.spines.values():
    spine.set_edgecolor('white')
plt.tight_layout()

plt.savefig('i/HW1_Q1.png')





fig, axes = Weid_Fig(height=4, fontsize=16)

hours = pd.read_csv('Data/HW1_Q2_Annual_Working_Hours_full.csv')
hours.rename(columns={'Average annual working hours per worker': 'Hours'}, inplace=True)

for entity in ['United States', 'South Korea', 'Norway']:
    subhours = hours[hours.Entity == entity]
    subhours = subhours[subhours.Year >= 1950]
    line, = plt.plot(subhours.Year, subhours.Hours)

    line_color = line.get_color()

    year = 1985
    y_2015 = subhours[subhours.Year == year].Hours
    plt.annotate(
        entity,
        xy=(year, y_2015),  # Point to annotate
        xytext=(year, y_2015 + 50),  # Position of the text
        fontsize=12,
        ha='center',
        color=line_color
    )

plt.ylabel('Hours Worked')
plt.ylim(1200, 3200)

plt.xlabel('Years')
plt.grid(True)

plt.title('Average Annual Hours Worked by Country')
plt.tight_layout()
plt.savefig('i/HW1_Q2.png')





rate_all = pd.read_csv('Data/Marriage_Rates_full.csv')
rate_all.rename(columns={'Crude marriage rate (per 1,000 inhabitants)':'Marriage Rate'}, inplace=True)
rate = rate_all#[rate_all.Year == 2016]
#rate


code = pd.read_csv('Data/Country_Code_Continents.csv')
code.rename(columns={'ISO (3)':'Code'}, inplace=True)
code.Continent.unique()


country_rates.Continent.values[0]


rates = pd.merge(code, rate, on='Code')[['Continent', 'Country', 'Year', 'Marriage Rate']]
rates.Continent.unique()

rate_list = []
for country in rates.Country.unique():
    country_rates = rates[rates.Country == country]
    recent_year = country_rates.Year.max()
    if recent_year > 1900:
        african_countries = ['Algeria', 'Angola', 
               'Djibouti', 'Egypt', 'Equatorial Guinea', 'Ethiopia',
               'Equatorial Guinea', 'Mozambique',
               'Sao Tome and Principe', 'Guinea-Bissau', 'Equatorial Guinea']
        if country_rates.Continent.values[0] != 'Africa' or country in african_countries:
            rate_list.append(country_rates[country_rates.Year == recent_year])
recent_rate = pd.concat(rate_list)

#recent_rate = recent_rate[recent_rate.Country.isin(african_countries)]
#recent_rate = recent_rate.sample(int(len(recent_rate)/3))
recent_rate.Continent.unique()
recent_rate[['Continent', 'Country', 'Marriage Rate']].to_csv('Data/Marriage_Rates.csv')


recent_rate[(recent_rate.Continent == 'Africa')]


recent_rate[(recent_rate.Continent == 'Africa') & (recent_rate['Marriage Rate'] < 2)]


recent_rate[(recent_rate['Marriage Rate'] > 20) | (recent_rate['Marriage Rate'] < 1)]


recent_rate[(recent_rate.Continent == 'Oceania') & (recent_rate['Marriage Rate'] > 10)]
